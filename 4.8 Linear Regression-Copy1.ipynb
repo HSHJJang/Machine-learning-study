{
 "cells": [
  {
   "cell_type": "code",
   "execution_count": 115,
   "metadata": {},
   "outputs": [],
   "source": [
    "from keras import optimizers\n",
    "from keras.models import Sequential\n",
    "from keras.layers import Dense\n",
    "import numpy as np\n",
    "import matplotlib.pyplot as plt\n",
    "%matplotlib inline"
   ]
  },
  {
   "cell_type": "code",
   "execution_count": 116,
   "metadata": {},
   "outputs": [],
   "source": [
    "X = np.linspace(0, 10, 10)\n",
    "Y = X + np.random.randn(*X.shape)"
   ]
  },
  {
   "cell_type": "code",
   "execution_count": 117,
   "metadata": {
    "scrolled": true
   },
   "outputs": [
    {
     "name": "stdout",
     "output_type": "stream",
     "text": [
      "0.0 -0.7\n",
      "1.1 1.1\n",
      "2.2 2.6\n",
      "3.3 2.7\n",
      "4.4 3.8\n",
      "5.6 4.5\n",
      "6.7 6.3\n",
      "7.8 8.9\n",
      "8.9 7.7\n",
      "10.0 11.1\n"
     ]
    }
   ],
   "source": [
    "for x, y in zip(X, Y):\n",
    "    print(round(x, 1), round(y, 1))"
   ]
  },
  {
   "cell_type": "code",
   "execution_count": 118,
   "metadata": {},
   "outputs": [],
   "source": [
    "model = Sequential()\n",
    "model.add(Dense(input_dim = 1, units=1, activation='linear', use_bias=False))\n",
    "# input dim 1차원, 모델의 출력이 단순히 y값의 예측값이므로 units = 1 ?? \n",
    "# activation 선형, y = wx + b 에서 b가 없는걸 가정할거므로 use bias = False"
   ]
  },
  {
   "cell_type": "code",
   "execution_count": 119,
   "metadata": {},
   "outputs": [],
   "source": [
    "sgd = optimizers.SGD(lr=0.01)\n",
    "model.compile(optimizer='sgd', loss='mse')"
   ]
  },
  {
   "cell_type": "code",
   "execution_count": 120,
   "metadata": {},
   "outputs": [
    {
     "name": "stdout",
     "output_type": "stream",
     "text": [
      "initial w is:  -0.831728\n"
     ]
    }
   ],
   "source": [
    "# 학습하기 전에 최초로 설정된 w값은?\n",
    "weights = model.layers[0].get_weights()\n",
    "w = weights[0][0][0]\n",
    "print('initial w is: ',w)\n",
    "# 그냥 무작위의 작은 값인듯"
   ]
  },
  {
   "cell_type": "code",
   "execution_count": 121,
   "metadata": {},
   "outputs": [
    {
     "name": "stdout",
     "output_type": "stream",
     "text": [
      "Epoch 1/10\n",
      "10/10 [==============================] - 0s 2ms/step - loss: 117.2490\n",
      "Epoch 2/10\n",
      "10/10 [==============================] - 0s 101us/step - loss: 10.9111\n",
      "Epoch 3/10\n",
      "10/10 [==============================] - 0s 98us/step - loss: 1.5755\n",
      "Epoch 4/10\n",
      "10/10 [==============================] - 0s 201us/step - loss: 0.7560\n",
      "Epoch 5/10\n",
      "10/10 [==============================] - 0s 98us/step - loss: 0.6840\n",
      "Epoch 6/10\n",
      "10/10 [==============================] - 0s 199us/step - loss: 0.6777\n",
      "Epoch 7/10\n",
      "10/10 [==============================] - 0s 199us/step - loss: 0.6771\n",
      "Epoch 8/10\n",
      "10/10 [==============================] - 0s 199us/step - loss: 0.6771\n",
      "Epoch 9/10\n",
      "10/10 [==============================] - 0s 100us/step - loss: 0.6771\n",
      "Epoch 10/10\n",
      "10/10 [==============================] - 0s 198us/step - loss: 0.6771\n"
     ]
    },
    {
     "data": {
      "text/plain": [
       "<keras.callbacks.callbacks.History at 0x18557c8b6a0>"
      ]
     },
     "execution_count": 121,
     "metadata": {},
     "output_type": "execute_result"
    }
   ],
   "source": [
    "# 아래의 코드를 실행하여 학습합니다.\n",
    "# 총 10개의 데이터가 있으므로, batch_size를 10으로 설정하여 batch gradient descent를 실행합니다.\n",
    "# epochs=10은 총 10번 반복 수행하여 모델을 학습한다는 뜻입니다.\n",
    "model.fit(X, Y, batch_size=10,epochs=10, verbose=1)"
   ]
  },
  {
   "cell_type": "code",
   "execution_count": 122,
   "metadata": {},
   "outputs": [
    {
     "name": "stdout",
     "output_type": "stream",
     "text": [
      "trained w is : 0.9884538\n"
     ]
    }
   ],
   "source": [
    "weights = model.layers[0].get_weights()\n",
    "w = weights[0][0][0]\n",
    "\n",
    "print('trained w is : ' + str(w))"
   ]
  },
  {
   "cell_type": "code",
   "execution_count": 123,
   "metadata": {},
   "outputs": [
    {
     "data": {
      "image/png": "[encoded data removed]",
      "text/plain": [
       "<Figure size 432x288 with 1 Axes>"
      ]
     },
     "metadata": {
      "needs_background": "light"
     },
     "output_type": "display_data"
    }
   ],
   "source": [
    "plt.plot(X, Y, label='data')\n",
    "plt.plot(X, w*X, label='prediction')\n",
    "plt.legend()\n",
    "plt.show()"
   ]
  },
  {
   "cell_type": "code",
   "execution_count": null,
   "metadata": {},
   "outputs": [],
   "source": [
    "# 아 이제야 제대로 되네"
   ]
  }
 ],
 "metadata": {
  "kernelspec": {
   "display_name": "Python 3",
   "language": "python",
   "name": "python3"
  },
  "language_info": {
   "codemirror_mode": {
    "name": "ipython",
    "version": 3
   },
   "file_extension": ".py",
   "mimetype": "text/x-python",
   "name": "python",
   "nbconvert_exporter": "python",
   "pygments_lexer": "ipython3",
   "version": "3.6.4"
  }
 },
 "nbformat": 4,
 "nbformat_minor": 4
}
