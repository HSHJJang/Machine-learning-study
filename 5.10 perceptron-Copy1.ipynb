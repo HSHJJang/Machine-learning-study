{
 "cells": [
  {
   "cell_type": "code",
   "execution_count": 1,
   "metadata": {},
   "outputs": [],
   "source": [
    "import tensorflow as tf"
   ]
  },
  {
   "cell_type": "code",
   "execution_count": 12,
   "metadata": {},
   "outputs": [],
   "source": [
    "import tensorflow.compat.v1 as tf\n",
    "tf.disable_v2_behavior()"
   ]
  },
  {
   "cell_type": "code",
   "execution_count": 13,
   "metadata": {},
   "outputs": [],
   "source": [
    "T = 1.0\n",
    "F = 0.0\n",
    "bias = 1.0"
   ]
  },
  {
   "cell_type": "code",
   "execution_count": 14,
   "metadata": {},
   "outputs": [],
   "source": [
    "def get_AND_data():\n",
    "    X = [\n",
    "    [F, F, bias],\n",
    "    [F, T, bias],\n",
    "    [T, F, bias],\n",
    "    [T, T, bias]\n",
    "    ]\n",
    "    \n",
    "    Y = [\n",
    "        [F],\n",
    "        [F],\n",
    "        [F],\n",
    "        [T]\n",
    "    ]\n",
    "    \n",
    "    return X, Y\n",
    "\n",
    "def get_OR_data():\n",
    "    X = [\n",
    "    [F, F, bias],\n",
    "    [F, T, bias],\n",
    "    [T, F, bias],\n",
    "    [T, T, bias]\n",
    "    ]\n",
    "    \n",
    "    Y = [\n",
    "        [F],\n",
    "        [T],\n",
    "        [T],\n",
    "        [T]\n",
    "    ]\n",
    "    \n",
    "    return X, Y\n",
    "\n",
    "def get_XOR_data():\n",
    "    X = [\n",
    "    [F, F, bias],\n",
    "    [F, T, bias],\n",
    "    [T, F, bias],\n",
    "    [T, T, bias]\n",
    "    ]\n",
    "    \n",
    "    Y = [\n",
    "        [F],\n",
    "        [T],\n",
    "        [T],\n",
    "        [F]\n",
    "    ]\n",
    "    \n",
    "    return X, Y"
   ]
  },
  {
   "cell_type": "code",
   "execution_count": 21,
   "metadata": {},
   "outputs": [],
   "source": [
    "# 실습할 연산을 자유롭게 선택\n",
    "X, Y = get_OR_data()"
   ]
  },
  {
   "cell_type": "code",
   "execution_count": 22,
   "metadata": {},
   "outputs": [],
   "source": [
    "\"\"\"\n",
    "논리연산을 위한 입력값 X, Y와 편향값 (b)를 받을 것이므로, weight를 [3,1]로 설정합니다.\n",
    "3은 세개의 입력을 의미하고, 1은 한개의 뉴론임을 의미합니다.\n",
    "\"\"\"\n",
    "W = tf.Variable(tf.random_normal([3, 1]))"
   ]
  },
  {
   "cell_type": "code",
   "execution_count": 23,
   "metadata": {},
   "outputs": [],
   "source": [
    "\"\"\"\n",
    "활성화 함수로 스텝함수를 사용합니다\n",
    "step(x) = { 1 if x > 0; 0 otherwise }\n",
    "\"\"\"\n",
    "def step(x):\n",
    "    return tf.to_float(tf.greater(x, 0))"
   ]
  },
  {
   "cell_type": "code",
   "execution_count": 24,
   "metadata": {},
   "outputs": [],
   "source": [
    "\"\"\"\n",
    "평균 제곱 오차(MSE)를 손실함수로 사용하도록 하겠습니다.\n",
    "\"\"\"\n",
    "f = tf.matmul(X, W)\n",
    "output = step(f)\n",
    "error = tf.subtract(Y, output)\n",
    "mse = tf.reduce_mean(tf.square(error))"
   ]
  },
  {
   "cell_type": "code",
   "execution_count": 25,
   "metadata": {},
   "outputs": [],
   "source": [
    "\"\"\"\n",
    "퍼셉트론은 미분값이 의미가 없으므로 가중치를 업데이트 이렇게 함\n",
    "if target == 1 and activation == 0:\n",
    "w_new = w_old + input\n",
    "\n",
    "if target == 0 and activation == 1:\n",
    "w_new = w_old - input\n",
    "\"\"\"\n",
    "delta = tf.matmul(X, error, transpose_a=True)\n",
    "train = tf.assign(W, tf.add(W, delta))"
   ]
  },
  {
   "cell_type": "code",
   "execution_count": 26,
   "metadata": {},
   "outputs": [
    {
     "name": "stdout",
     "output_type": "stream",
     "text": [
      "epoch: 1, mse: 0.75\n",
      "epoch: 2, mse: 0.25\n",
      "epoch: 3, mse: 0.25\n",
      "epoch: 4, mse: 0.25\n",
      "epoch: 5, mse: 0.0\n",
      "\n",
      "Testing Result\n",
      "[array([[0.],\n",
      "       [1.],\n",
      "       [1.],\n",
      "       [1.]], dtype=float32)]\n"
     ]
    }
   ],
   "source": [
    "# 테스트 및 결과\n",
    "# initialize the variables\n",
    "init = tf.global_variables_initializer()\n",
    "\n",
    "# Starting traing(run the session)\n",
    "with tf.Session() as sess:\n",
    "    # Run the initializer\n",
    "    sess.run(init)\n",
    "    err = 1\n",
    "    epoch, max_epochs = 0, 20\n",
    "    while err > 0.0 and epoch < max_epochs:\n",
    "        epoch += 1\n",
    "        err = sess.run(mse)\n",
    "        sess.run(train)\n",
    "        print(f\"epoch: {epoch}, mse: {err}\")\n",
    "        \n",
    "    print('\\nTesting Result')\n",
    "    print(sess.run([output]))"
   ]
  }
 ],
 "metadata": {
  "kernelspec": {
   "display_name": "Python 3",
   "language": "python",
   "name": "python3"
  },
  "language_info": {
   "codemirror_mode": {
    "name": "ipython",
    "version": 3
   },
   "file_extension": ".py",
   "mimetype": "text/x-python",
   "name": "python",
   "nbconvert_exporter": "python",
   "pygments_lexer": "ipython3",
   "version": "3.6.4"
  }
 },
 "nbformat": 4,
 "nbformat_minor": 4
}
